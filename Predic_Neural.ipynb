{
  "nbformat": 4,
  "nbformat_minor": 0,
  "metadata": {
    "colab": {
      "provenance": [],
      "mount_file_id": "1K3nydm6gpGcQ2lxTUQF2WLXy0E77fGIh",
      "authorship_tag": "ABX9TyN6lw70CFr0gDyjWRqQirBE",
      "include_colab_link": true
    },
    "kernelspec": {
      "name": "python3",
      "display_name": "Python 3"
    },
    "language_info": {
      "name": "python"
    }
  },
  "cells": [
    {
      "cell_type": "markdown",
      "metadata": {
        "id": "view-in-github",
        "colab_type": "text"
      },
      "source": [
        "<a href=\"https://colab.research.google.com/github/Predic-learning/Weather-prediction/blob/main/Predic_Neural.ipynb\" target=\"_parent\"><img src=\"https://colab.research.google.com/assets/colab-badge.svg\" alt=\"Open In Colab\"/></a>"
      ]
    },
    {
      "cell_type": "code",
      "execution_count": null,
      "metadata": {
        "id": "_V3vBDjkQUZG",
        "colab": {
          "base_uri": "https://localhost:8080/",
          "height": 206
        },
        "outputId": "1eda132e-24b0-4b2b-9c54-975a5231a1e4"
      },
      "outputs": [
        {
          "output_type": "execute_result",
          "data": {
            "text/plain": [
              "            Timestamp  Temperature  Humidity  Direction  Speed  Rainfall  \\\n",
              "0  1/2/2023, 15:30:01        39.44        26        225   3.22       0.0   \n",
              "1  1/2/2023, 15:30:04        39.44        26        225   3.22       0.0   \n",
              "2  1/2/2023, 15:30:07        39.44        26        225   3.22       0.0   \n",
              "3  1/2/2023, 15:30:10        39.44        26        225   3.22       0.0   \n",
              "4  1/2/2023, 15:30:13        39.44        26        225   3.22       0.0   \n",
              "\n",
              "   Pressure  PM 2.5  \n",
              "0     998.4      62  \n",
              "1     998.5      59  \n",
              "2     998.5      57  \n",
              "3     998.5      57  \n",
              "4     998.5      57  "
            ],
            "text/html": [
              "\n",
              "  <div id=\"df-be2e9a4c-b040-407b-9fc8-c77735586e14\" class=\"colab-df-container\">\n",
              "    <div>\n",
              "<style scoped>\n",
              "    .dataframe tbody tr th:only-of-type {\n",
              "        vertical-align: middle;\n",
              "    }\n",
              "\n",
              "    .dataframe tbody tr th {\n",
              "        vertical-align: top;\n",
              "    }\n",
              "\n",
              "    .dataframe thead th {\n",
              "        text-align: right;\n",
              "    }\n",
              "</style>\n",
              "<table border=\"1\" class=\"dataframe\">\n",
              "  <thead>\n",
              "    <tr style=\"text-align: right;\">\n",
              "      <th></th>\n",
              "      <th>Timestamp</th>\n",
              "      <th>Temperature</th>\n",
              "      <th>Humidity</th>\n",
              "      <th>Direction</th>\n",
              "      <th>Speed</th>\n",
              "      <th>Rainfall</th>\n",
              "      <th>Pressure</th>\n",
              "      <th>PM 2.5</th>\n",
              "    </tr>\n",
              "  </thead>\n",
              "  <tbody>\n",
              "    <tr>\n",
              "      <th>0</th>\n",
              "      <td>1/2/2023, 15:30:01</td>\n",
              "      <td>39.44</td>\n",
              "      <td>26</td>\n",
              "      <td>225</td>\n",
              "      <td>3.22</td>\n",
              "      <td>0.0</td>\n",
              "      <td>998.4</td>\n",
              "      <td>62</td>\n",
              "    </tr>\n",
              "    <tr>\n",
              "      <th>1</th>\n",
              "      <td>1/2/2023, 15:30:04</td>\n",
              "      <td>39.44</td>\n",
              "      <td>26</td>\n",
              "      <td>225</td>\n",
              "      <td>3.22</td>\n",
              "      <td>0.0</td>\n",
              "      <td>998.5</td>\n",
              "      <td>59</td>\n",
              "    </tr>\n",
              "    <tr>\n",
              "      <th>2</th>\n",
              "      <td>1/2/2023, 15:30:07</td>\n",
              "      <td>39.44</td>\n",
              "      <td>26</td>\n",
              "      <td>225</td>\n",
              "      <td>3.22</td>\n",
              "      <td>0.0</td>\n",
              "      <td>998.5</td>\n",
              "      <td>57</td>\n",
              "    </tr>\n",
              "    <tr>\n",
              "      <th>3</th>\n",
              "      <td>1/2/2023, 15:30:10</td>\n",
              "      <td>39.44</td>\n",
              "      <td>26</td>\n",
              "      <td>225</td>\n",
              "      <td>3.22</td>\n",
              "      <td>0.0</td>\n",
              "      <td>998.5</td>\n",
              "      <td>57</td>\n",
              "    </tr>\n",
              "    <tr>\n",
              "      <th>4</th>\n",
              "      <td>1/2/2023, 15:30:13</td>\n",
              "      <td>39.44</td>\n",
              "      <td>26</td>\n",
              "      <td>225</td>\n",
              "      <td>3.22</td>\n",
              "      <td>0.0</td>\n",
              "      <td>998.5</td>\n",
              "      <td>57</td>\n",
              "    </tr>\n",
              "  </tbody>\n",
              "</table>\n",
              "</div>\n",
              "    <div class=\"colab-df-buttons\">\n",
              "\n",
              "  <div class=\"colab-df-container\">\n",
              "    <button class=\"colab-df-convert\" onclick=\"convertToInteractive('df-be2e9a4c-b040-407b-9fc8-c77735586e14')\"\n",
              "            title=\"Convert this dataframe to an interactive table.\"\n",
              "            style=\"display:none;\">\n",
              "\n",
              "  <svg xmlns=\"http://www.w3.org/2000/svg\" height=\"24px\" viewBox=\"0 -960 960 960\">\n",
              "    <path d=\"M120-120v-720h720v720H120Zm60-500h600v-160H180v160Zm220 220h160v-160H400v160Zm0 220h160v-160H400v160ZM180-400h160v-160H180v160Zm440 0h160v-160H620v160ZM180-180h160v-160H180v160Zm440 0h160v-160H620v160Z\"/>\n",
              "  </svg>\n",
              "    </button>\n",
              "\n",
              "  <style>\n",
              "    .colab-df-container {\n",
              "      display:flex;\n",
              "      gap: 12px;\n",
              "    }\n",
              "\n",
              "    .colab-df-convert {\n",
              "      background-color: #E8F0FE;\n",
              "      border: none;\n",
              "      border-radius: 50%;\n",
              "      cursor: pointer;\n",
              "      display: none;\n",
              "      fill: #1967D2;\n",
              "      height: 32px;\n",
              "      padding: 0 0 0 0;\n",
              "      width: 32px;\n",
              "    }\n",
              "\n",
              "    .colab-df-convert:hover {\n",
              "      background-color: #E2EBFA;\n",
              "      box-shadow: 0px 1px 2px rgba(60, 64, 67, 0.3), 0px 1px 3px 1px rgba(60, 64, 67, 0.15);\n",
              "      fill: #174EA6;\n",
              "    }\n",
              "\n",
              "    .colab-df-buttons div {\n",
              "      margin-bottom: 4px;\n",
              "    }\n",
              "\n",
              "    [theme=dark] .colab-df-convert {\n",
              "      background-color: #3B4455;\n",
              "      fill: #D2E3FC;\n",
              "    }\n",
              "\n",
              "    [theme=dark] .colab-df-convert:hover {\n",
              "      background-color: #434B5C;\n",
              "      box-shadow: 0px 1px 3px 1px rgba(0, 0, 0, 0.15);\n",
              "      filter: drop-shadow(0px 1px 2px rgba(0, 0, 0, 0.3));\n",
              "      fill: #FFFFFF;\n",
              "    }\n",
              "  </style>\n",
              "\n",
              "    <script>\n",
              "      const buttonEl =\n",
              "        document.querySelector('#df-be2e9a4c-b040-407b-9fc8-c77735586e14 button.colab-df-convert');\n",
              "      buttonEl.style.display =\n",
              "        google.colab.kernel.accessAllowed ? 'block' : 'none';\n",
              "\n",
              "      async function convertToInteractive(key) {\n",
              "        const element = document.querySelector('#df-be2e9a4c-b040-407b-9fc8-c77735586e14');\n",
              "        const dataTable =\n",
              "          await google.colab.kernel.invokeFunction('convertToInteractive',\n",
              "                                                    [key], {});\n",
              "        if (!dataTable) return;\n",
              "\n",
              "        const docLinkHtml = 'Like what you see? Visit the ' +\n",
              "          '<a target=\"_blank\" href=https://colab.research.google.com/notebooks/data_table.ipynb>data table notebook</a>'\n",
              "          + ' to learn more about interactive tables.';\n",
              "        element.innerHTML = '';\n",
              "        dataTable['output_type'] = 'display_data';\n",
              "        await google.colab.output.renderOutput(dataTable, element);\n",
              "        const docLink = document.createElement('div');\n",
              "        docLink.innerHTML = docLinkHtml;\n",
              "        element.appendChild(docLink);\n",
              "      }\n",
              "    </script>\n",
              "  </div>\n",
              "\n",
              "\n",
              "<div id=\"df-e7ac104d-dc23-422f-8f56-410bf262289b\">\n",
              "  <button class=\"colab-df-quickchart\" onclick=\"quickchart('df-e7ac104d-dc23-422f-8f56-410bf262289b')\"\n",
              "            title=\"Suggest charts\"\n",
              "            style=\"display:none;\">\n",
              "\n",
              "<svg xmlns=\"http://www.w3.org/2000/svg\" height=\"24px\"viewBox=\"0 0 24 24\"\n",
              "     width=\"24px\">\n",
              "    <g>\n",
              "        <path d=\"M19 3H5c-1.1 0-2 .9-2 2v14c0 1.1.9 2 2 2h14c1.1 0 2-.9 2-2V5c0-1.1-.9-2-2-2zM9 17H7v-7h2v7zm4 0h-2V7h2v10zm4 0h-2v-4h2v4z\"/>\n",
              "    </g>\n",
              "</svg>\n",
              "  </button>\n",
              "\n",
              "<style>\n",
              "  .colab-df-quickchart {\n",
              "      --bg-color: #E8F0FE;\n",
              "      --fill-color: #1967D2;\n",
              "      --hover-bg-color: #E2EBFA;\n",
              "      --hover-fill-color: #174EA6;\n",
              "      --disabled-fill-color: #AAA;\n",
              "      --disabled-bg-color: #DDD;\n",
              "  }\n",
              "\n",
              "  [theme=dark] .colab-df-quickchart {\n",
              "      --bg-color: #3B4455;\n",
              "      --fill-color: #D2E3FC;\n",
              "      --hover-bg-color: #434B5C;\n",
              "      --hover-fill-color: #FFFFFF;\n",
              "      --disabled-bg-color: #3B4455;\n",
              "      --disabled-fill-color: #666;\n",
              "  }\n",
              "\n",
              "  .colab-df-quickchart {\n",
              "    background-color: var(--bg-color);\n",
              "    border: none;\n",
              "    border-radius: 50%;\n",
              "    cursor: pointer;\n",
              "    display: none;\n",
              "    fill: var(--fill-color);\n",
              "    height: 32px;\n",
              "    padding: 0;\n",
              "    width: 32px;\n",
              "  }\n",
              "\n",
              "  .colab-df-quickchart:hover {\n",
              "    background-color: var(--hover-bg-color);\n",
              "    box-shadow: 0 1px 2px rgba(60, 64, 67, 0.3), 0 1px 3px 1px rgba(60, 64, 67, 0.15);\n",
              "    fill: var(--button-hover-fill-color);\n",
              "  }\n",
              "\n",
              "  .colab-df-quickchart-complete:disabled,\n",
              "  .colab-df-quickchart-complete:disabled:hover {\n",
              "    background-color: var(--disabled-bg-color);\n",
              "    fill: var(--disabled-fill-color);\n",
              "    box-shadow: none;\n",
              "  }\n",
              "\n",
              "  .colab-df-spinner {\n",
              "    border: 2px solid var(--fill-color);\n",
              "    border-color: transparent;\n",
              "    border-bottom-color: var(--fill-color);\n",
              "    animation:\n",
              "      spin 1s steps(1) infinite;\n",
              "  }\n",
              "\n",
              "  @keyframes spin {\n",
              "    0% {\n",
              "      border-color: transparent;\n",
              "      border-bottom-color: var(--fill-color);\n",
              "      border-left-color: var(--fill-color);\n",
              "    }\n",
              "    20% {\n",
              "      border-color: transparent;\n",
              "      border-left-color: var(--fill-color);\n",
              "      border-top-color: var(--fill-color);\n",
              "    }\n",
              "    30% {\n",
              "      border-color: transparent;\n",
              "      border-left-color: var(--fill-color);\n",
              "      border-top-color: var(--fill-color);\n",
              "      border-right-color: var(--fill-color);\n",
              "    }\n",
              "    40% {\n",
              "      border-color: transparent;\n",
              "      border-right-color: var(--fill-color);\n",
              "      border-top-color: var(--fill-color);\n",
              "    }\n",
              "    60% {\n",
              "      border-color: transparent;\n",
              "      border-right-color: var(--fill-color);\n",
              "    }\n",
              "    80% {\n",
              "      border-color: transparent;\n",
              "      border-right-color: var(--fill-color);\n",
              "      border-bottom-color: var(--fill-color);\n",
              "    }\n",
              "    90% {\n",
              "      border-color: transparent;\n",
              "      border-bottom-color: var(--fill-color);\n",
              "    }\n",
              "  }\n",
              "</style>\n",
              "\n",
              "  <script>\n",
              "    async function quickchart(key) {\n",
              "      const quickchartButtonEl =\n",
              "        document.querySelector('#' + key + ' button');\n",
              "      quickchartButtonEl.disabled = true;  // To prevent multiple clicks.\n",
              "      quickchartButtonEl.classList.add('colab-df-spinner');\n",
              "      try {\n",
              "        const charts = await google.colab.kernel.invokeFunction(\n",
              "            'suggestCharts', [key], {});\n",
              "      } catch (error) {\n",
              "        console.error('Error during call to suggestCharts:', error);\n",
              "      }\n",
              "      quickchartButtonEl.classList.remove('colab-df-spinner');\n",
              "      quickchartButtonEl.classList.add('colab-df-quickchart-complete');\n",
              "    }\n",
              "    (() => {\n",
              "      let quickchartButtonEl =\n",
              "        document.querySelector('#df-e7ac104d-dc23-422f-8f56-410bf262289b button');\n",
              "      quickchartButtonEl.style.display =\n",
              "        google.colab.kernel.accessAllowed ? 'block' : 'none';\n",
              "    })();\n",
              "  </script>\n",
              "</div>\n",
              "    </div>\n",
              "  </div>\n"
            ]
          },
          "metadata": {},
          "execution_count": 1
        }
      ],
      "source": [
        "import torch\n",
        "import torch.nn as nn\n",
        "import matplotlib.pyplot as plt\n",
        "import numpy as np\n",
        "import pandas as pd\n",
        "import random\n",
        "from sklearn.model_selection import train_test_split\n",
        "from sklearn.metrics import accuracy_score, r2_score, mean_absolute_error, mean_squared_error\n",
        "#data = pd.read_csv('/content/drive/MyDrive/TempPredict/Weather 1_3_2023.csv')\n",
        "#data = pd.read_csv('/content/drive/MyDrive/TempPredict/dataDayM.csv')\n",
        "data = pd.read_csv('/content/drive/MyDrive/TempPredict/d123_2Weather15_17.csv')\n",
        "#data['Tools'].replace({'AIR':0, 'PC':1 , 'lamp':2}, inplace=True)\n",
        "data.head()"
      ]
    },
    {
      "cell_type": "code",
      "source": [
        "X = data[['Humidity',\t'Direction', 'Speed',\t'Rainfall',\t'Pressure',\t'PM 2.5']].values\n",
        "y = data[['Temperature']].values.reshape(-1, 1)\n",
        "X_train, X_test, y_train, y_test = train_test_split(X, y, test_size=0.2, random_state=42)"
      ],
      "metadata": {
        "id": "nbdAsL2RYpZ3"
      },
      "execution_count": null,
      "outputs": []
    },
    {
      "cell_type": "code",
      "source": [
        "from sklearn.preprocessing import StandardScaler\n",
        "scaler = StandardScaler()\n",
        "X_train = scaler.fit_transform(X_train)\n",
        "X_test  = scaler.transform(X_test)\n",
        "X_train = torch.tensor(X_train).type(torch.float)\n",
        "X_test = torch.tensor(X_test).type(torch.float)\n",
        "y_train = torch.tensor(y_train).type(torch.float)\n",
        "y_test = torch.tensor(y_test).type(torch.float)\n",
        "X_train.dtype, X_test.dtype, y_train.dtype, y_test.dtype, y_train.shape\n"
      ],
      "metadata": {
        "id": "S-lxbfO-BXDF",
        "colab": {
          "base_uri": "https://localhost:8080/"
        },
        "outputId": "0acbad84-24e5-480c-c515-07b58c46bf35"
      },
      "execution_count": null,
      "outputs": [
        {
          "output_type": "execute_result",
          "data": {
            "text/plain": [
              "(torch.float32,\n",
              " torch.float32,\n",
              " torch.float32,\n",
              " torch.float32,\n",
              " torch.Size([6096, 1]))"
            ]
          },
          "metadata": {},
          "execution_count": 5
        }
      ]
    },
    {
      "cell_type": "code",
      "source": [
        "import torch.nn.functional as F\n",
        "class Model(nn.Module):\n",
        "   #1. model initailization\n",
        "    def __init__(self, in_features, h1, h2, h3, out_features):\n",
        "        super().__init__()\n",
        "        self.layer1 = nn.Linear(in_features, h1)\n",
        "        self.layer2 = nn.Linear(h1, h2)\n",
        "        self.layer3 = nn.Linear(h2, h3)\n",
        "        self.out = nn.Linear(h3, out_features)\n",
        "\n",
        "# 2. How model works\n",
        "    def forward(self,x):\n",
        "       x = F.relu(self.layer1(x))\n",
        "       x = F.relu(self.layer2(x))\n",
        "       x = F.relu(self.layer3(x))\n",
        "       x = self.out(x)\n",
        "       return x\n",
        "model = Model(6, 64, 128, 256, 1)\n",
        "model"
      ],
      "metadata": {
        "id": "6sSPHTzCBbO6",
        "colab": {
          "base_uri": "https://localhost:8080/"
        },
        "outputId": "5feb7b54-7e4c-4c27-a9dd-1fc24c377531"
      },
      "execution_count": null,
      "outputs": [
        {
          "output_type": "execute_result",
          "data": {
            "text/plain": [
              "Model(\n",
              "  (layer1): Linear(in_features=6, out_features=64, bias=True)\n",
              "  (layer2): Linear(in_features=64, out_features=128, bias=True)\n",
              "  (layer3): Linear(in_features=128, out_features=256, bias=True)\n",
              "  (out): Linear(in_features=256, out_features=1, bias=True)\n",
              ")"
            ]
          },
          "metadata": {},
          "execution_count": 6
        }
      ]
    },
    {
      "cell_type": "code",
      "source": [
        "#หาค่าความถูกต้องของข้อมูล\n",
        "def accuracy_fn(y_predict_class, y_true_class):\n",
        "  correct = torch.sum(y_predict_class == y_true_class)\n",
        "  return (correct/len(y_predict_class))*100"
      ],
      "metadata": {
        "id": "AdsVLLaaBd1Z"
      },
      "execution_count": null,
      "outputs": []
    },
    {
      "cell_type": "code",
      "source": [
        "class RMSELoss(nn.Module):\n",
        "    def __init__(self):\n",
        "        super().__init__()\n",
        "        self.mse = nn.MSELoss()\n",
        "\n",
        "    def forward(self,yhat,y):\n",
        "        return torch.sqrt(self.mse(yhat,y))\n",
        "\n",
        "criterion = RMSELoss()\n",
        "#criterion = nn.L1Loss()\n",
        "#criterion = nn.MSELoss()\n",
        "#optimizer = torch.optim.SGD(model.parameters(), lr = 0.0001)\n",
        "optimizer = torch.optim.Adam(model.parameters(), lr = 0.0001)"
      ],
      "metadata": {
        "id": "ZRnN-aS0BhS2"
      },
      "execution_count": null,
      "outputs": []
    },
    {
      "cell_type": "code",
      "source": [
        "# training loop RMSE\n",
        "Epochs = 3000\n",
        "\n",
        "train_losses = []\n",
        "test_losses = []\n",
        "train_accuracies = []\n",
        "test_accuracies = []\n",
        "\n",
        "for epoch in range (Epochs):\n",
        "  y_pred = model(X_train)\n",
        "\n",
        "  train_loss = criterion(y_pred, y_train)\n",
        "  train_losses.append(train_loss.item())\n",
        "\n",
        "  acc = r2_score(y_pred.detach().numpy(), y_train.detach().numpy())\n",
        "  train_accuracies.append(acc)\n",
        "\n",
        "  with torch.no_grad():\n",
        "    y_test_pred = model(X_test)\n",
        "\n",
        "    test_loss = criterion(y_test_pred, y_test)\n",
        "    test_losses.append(test_loss.item())\n",
        "\n",
        "    test_acc = r2_score(y_test_pred.detach().numpy(), y_test.detach().numpy())\n",
        "    test_accuracies.append(test_acc)\n",
        "\n",
        "    optimizer.zero_grad()\n",
        "    train_loss.backward()\n",
        "    optimizer.step()\n",
        "    if epoch %100 == 0:\n",
        "      print(f'Epoch: {epoch}, train_loss: {train_loss.item()}, test_loss:{test_loss.item()}, train_acc: {acc*100:.2f}%, test_acc:{test_acc*100:.2f}%')\n"
      ],
      "metadata": {
        "id": "6yx08fjgBlg2",
        "colab": {
          "base_uri": "https://localhost:8080/"
        },
        "outputId": "9b8f955b-7bc7-4205-87c1-5cbe4c4868c1"
      },
      "execution_count": null,
      "outputs": [
        {
          "output_type": "stream",
          "name": "stdout",
          "text": [
            "Epoch: 0, train_loss: 39.955108642578125, test_loss:39.992130279541016, train_acc: -79075495.48%, test_acc:-80477806.47%\n",
            "Epoch: 100, train_loss: 37.43935775756836, test_loss:37.517242431640625, train_acc: -108864.04%, test_acc:-109820.32%\n",
            "Epoch: 200, train_loss: 21.492321014404297, test_loss:21.857891082763672, train_acc: -610.11%, test_acc:-622.53%\n",
            "Epoch: 300, train_loss: 8.739975929260254, test_loss:9.468917846679688, train_acc: -17.76%, test_acc:-17.15%\n",
            "Epoch: 400, train_loss: 5.187485694885254, test_loss:5.937905311584473, train_acc: 1.17%, test_acc:0.63%\n",
            "Epoch: 500, train_loss: 4.063854694366455, test_loss:4.676586627960205, train_acc: 10.39%, test_acc:8.87%\n",
            "Epoch: 600, train_loss: 3.356010675430298, test_loss:3.8903110027313232, train_acc: 16.25%, test_acc:14.14%\n",
            "Epoch: 700, train_loss: 2.7243399620056152, test_loss:3.210350751876831, train_acc: 23.05%, test_acc:20.11%\n",
            "Epoch: 800, train_loss: 2.14199161529541, test_loss:2.577932119369507, train_acc: 31.75%, test_acc:27.98%\n",
            "Epoch: 900, train_loss: 1.6499106884002686, test_loss:1.9998825788497925, train_acc: 42.09%, test_acc:38.49%\n",
            "Epoch: 1000, train_loss: 1.3193367719650269, test_loss:1.5542731285095215, train_acc: 50.95%, test_acc:49.71%\n",
            "Epoch: 1100, train_loss: 1.1535959243774414, test_loss:1.2864387035369873, train_acc: 55.79%, test_acc:57.91%\n",
            "Epoch: 1200, train_loss: 1.0742038488388062, test_loss:1.142358660697937, train_acc: 58.29%, test_acc:62.69%\n",
            "Epoch: 1300, train_loss: 1.0273334980010986, test_loss:1.0482770204544067, train_acc: 60.04%, test_acc:66.04%\n",
            "Epoch: 1400, train_loss: 0.9959761500358582, test_loss:0.9753226637840271, train_acc: 61.23%, test_acc:68.74%\n",
            "Epoch: 1500, train_loss: 0.9733176827430725, test_loss:0.9151369333267212, train_acc: 62.20%, test_acc:71.10%\n",
            "Epoch: 1600, train_loss: 0.9546539187431335, test_loss:0.866528332233429, train_acc: 63.07%, test_acc:73.08%\n",
            "Epoch: 1700, train_loss: 0.9387094974517822, test_loss:0.8253896236419678, train_acc: 63.83%, test_acc:74.80%\n",
            "Epoch: 1800, train_loss: 0.9253301620483398, test_loss:0.7932800650596619, train_acc: 64.49%, test_acc:76.16%\n",
            "Epoch: 1900, train_loss: 0.9138519167900085, test_loss:0.767060399055481, train_acc: 65.05%, test_acc:77.27%\n",
            "Epoch: 2000, train_loss: 0.9059120416641235, test_loss:0.7489051222801208, train_acc: 65.48%, test_acc:78.07%\n",
            "Epoch: 2100, train_loss: 0.8987913131713867, test_loss:0.7351689338684082, train_acc: 65.89%, test_acc:78.66%\n",
            "Epoch: 2200, train_loss: 0.8925099968910217, test_loss:0.7230288982391357, train_acc: 66.26%, test_acc:79.18%\n",
            "Epoch: 2300, train_loss: 0.8866775631904602, test_loss:0.7123294472694397, train_acc: 66.63%, test_acc:79.66%\n",
            "Epoch: 2400, train_loss: 0.8813585042953491, test_loss:0.7031742930412292, train_acc: 66.95%, test_acc:80.06%\n",
            "Epoch: 2500, train_loss: 0.8762962222099304, test_loss:0.6942764520645142, train_acc: 67.28%, test_acc:80.46%\n",
            "Epoch: 2600, train_loss: 0.8714069128036499, test_loss:0.6851698756217957, train_acc: 67.61%, test_acc:80.87%\n",
            "Epoch: 2700, train_loss: 0.8668842911720276, test_loss:0.6761274337768555, train_acc: 67.90%, test_acc:81.26%\n",
            "Epoch: 2800, train_loss: 0.8622292876243591, test_loss:0.6681706309318542, train_acc: 68.24%, test_acc:81.62%\n",
            "Epoch: 2900, train_loss: 0.8574004173278809, test_loss:0.6611546874046326, train_acc: 68.57%, test_acc:81.93%\n"
          ]
        }
      ]
    },
    {
      "cell_type": "code",
      "source": [
        "plt.figure(figsize=(5,4))\n",
        "plt.plot(range(Epochs), train_losses, label='train loss')\n",
        "plt.plot(range(Epochs), test_losses, 'r', label='test loss')\n",
        "plt.xlabel(\"Epoch\")\n",
        "plt.ylabel(\"Loss\")\n",
        "plt.title(\"Data Loss\")\n",
        "plt.legend()"
      ],
      "metadata": {
        "id": "SkSS7bOlBomF",
        "colab": {
          "base_uri": "https://localhost:8080/",
          "height": 427
        },
        "outputId": "1bf3074b-7b73-48af-d0b0-c07ab3c298bf"
      },
      "execution_count": null,
      "outputs": [
        {
          "output_type": "execute_result",
          "data": {
            "text/plain": [
              "<matplotlib.legend.Legend at 0x7dab87883220>"
            ]
          },
          "metadata": {},
          "execution_count": 10
        },
        {
          "output_type": "display_data",
          "data": {
            "text/plain": [
              "<Figure size 500x400 with 1 Axes>"
            ],
            "image/png": "[encoded data removed]"
          },
          "metadata": {}
        }
      ]
    },
    {
      "cell_type": "code",
      "source": [
        "plt.figure(figsize=(5,4))\n",
        "plt.plot(range(Epochs), train_accuracies, label='train loss')\n",
        "plt.plot(range(Epochs), test_accuracies, 'r', label='test loss')\n",
        "plt.xlabel(\"Epoch\")\n",
        "plt.ylabel(\"Accuracy\")\n",
        "plt.title(\"Accuracy\")"
      ],
      "metadata": {
        "id": "6z3m8VpCBqwM",
        "colab": {
          "base_uri": "https://localhost:8080/",
          "height": 427
        },
        "outputId": "ab20a35c-81db-4d7b-f7d0-e0272d28aa5f"
      },
      "execution_count": null,
      "outputs": [
        {
          "output_type": "execute_result",
          "data": {
            "text/plain": [
              "Text(0.5, 1.0, 'Accuracy')"
            ]
          },
          "metadata": {},
          "execution_count": 11
        },
        {
          "output_type": "display_data",
          "data": {
            "text/plain": [
              "<Figure size 500x400 with 1 Axes>"
            ],
            "image/png": "[encoded data removed]"
          },
          "metadata": {}
        }
      ]
    }
  ]
}